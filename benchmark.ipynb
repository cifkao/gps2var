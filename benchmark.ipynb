{
 "cells": [
  {
   "cell_type": "code",
   "execution_count": 1,
   "id": "bca40ed0",
   "metadata": {},
   "outputs": [],
   "source": [
    "import concurrent.futures as cf\n",
    "import itertools\n",
    "\n",
    "import gps2var\n",
    "import numpy as np\n",
    "import pyproj\n",
    "import rasterio"
   ]
  },
  {
   "cell_type": "code",
   "execution_count": 2,
   "id": "efa94f5c",
   "metadata": {},
   "outputs": [],
   "source": [
    "DATA_PATH = \"test.tif\""
   ]
  },
  {
   "cell_type": "code",
   "execution_count": 3,
   "id": "ebe0fd03",
   "metadata": {},
   "outputs": [],
   "source": [
    "# Write a dummy dataset\n",
    "profile = {'driver': 'GTiff', 'dtype': 'int8', 'nodata': -128.0, 'width': 36081, 'height': 16382, 'count': 1, 'crs': rasterio.crs.CRS.from_wkt('PROJCS[\"World_Mollweide\",GEOGCS[\"WGS 84\",DATUM[\"WGS_1984\",SPHEROID[\"WGS 84\",6378137,298.257223563,AUTHORITY[\"EPSG\",\"7030\"]],AUTHORITY[\"EPSG\",\"6326\"]],PRIMEM[\"Greenwich\",0],UNIT[\"Degree\",0.0174532925199433]],PROJECTION[\"Mollweide\"],PARAMETER[\"central_meridian\",0],PARAMETER[\"false_easting\",0],PARAMETER[\"false_northing\",0],UNIT[\"metre\",1,AUTHORITY[\"EPSG\",\"9001\"]],AXIS[\"Easting\",EAST],AXIS[\"Northing\",NORTH]]'), 'transform': rasterio.transform.Affine(1000.0, 0.0, -18040094.09752045, 0.0, -1000.0, 9018957.052787267), 'blockxsize': 128, 'blockysize': 64, 'tiled': True, 'compress': 'lzw', 'interleave': 'band'}\n",
    "with rasterio.Env():\n",
    "    with rasterio.open(DATA_PATH, \"w\", **profile) as dataset:\n",
    "        dataset.write(np.zeros(dataset.shape, dtype=dataset.dtypes[0]), 1)"
   ]
  },
  {
   "cell_type": "code",
   "execution_count": 4,
   "id": "9d57850b",
   "metadata": {},
   "outputs": [],
   "source": [
    "def gen_inputs(scale=1, size=10000, seed=42):\n",
    "    rng = np.random.default_rng(seed)\n",
    "    while True:\n",
    "        yield rng.uniform(-scale, scale, size=(size, 2)).T"
   ]
  },
  {
   "cell_type": "markdown",
   "id": "c0c175ab",
   "metadata": {},
   "source": [
    "## Basic synchronous reading"
   ]
  },
  {
   "cell_type": "code",
   "execution_count": 5,
   "id": "cd2a7730",
   "metadata": {},
   "outputs": [],
   "source": [
    "def time_rasterio_sample(scale):\n",
    "    \"\"\"rasterio.DatasetReader.sample()\"\"\"\n",
    "    inputs = gen_inputs(scale=scale)\n",
    "    with rasterio.open(DATA_PATH) as dataset:\n",
    "        transformer = pyproj.Transformer.from_crs(\"EPSG:4326\", dataset.crs, always_xy=True)\n",
    "        %timeit list(dataset.sample(zip(*transformer.transform(*next(inputs)))))"
   ]
  },
  {
   "cell_type": "code",
   "execution_count": 6,
   "id": "845feb18",
   "metadata": {},
   "outputs": [],
   "source": [
    "def time_reader(scale):\n",
    "    \"\"\"RasterValueReader()\"\"\"\n",
    "    inputs = gen_inputs(scale=scale)\n",
    "    with gps2var.RasterValueReader(DATA_PATH) as reader:\n",
    "        %timeit reader.get(*next(inputs))"
   ]
  },
  {
   "cell_type": "code",
   "execution_count": 7,
   "id": "83913688",
   "metadata": {},
   "outputs": [],
   "source": [
    "def time_reader_preload(scale):\n",
    "    \"\"\"RasterValueReader(preload_all=True)\"\"\"\n",
    "    inputs = gen_inputs(scale=scale)\n",
    "    with gps2var.RasterValueReader(DATA_PATH, preload_all=True) as reader:\n",
    "        %timeit reader.get(*next(inputs))"
   ]
  },
  {
   "cell_type": "code",
   "execution_count": 8,
   "id": "1772a84f",
   "metadata": {},
   "outputs": [
    {
     "name": "stdout",
     "output_type": "stream",
     "text": [
      "scale=0.1\n",
      "  rasterio.DatasetReader.sample()         542 ms ± 6.14 ms per loop (mean ± std. dev. of 7 runs, 1 loop each)\n",
      "  RasterValueReader()                     8.67 ms ± 63.5 µs per loop (mean ± std. dev. of 7 runs, 100 loops each)\n",
      "  RasterValueReader(preload_all=True)     7.92 ms ± 64.8 µs per loop (mean ± std. dev. of 7 runs, 100 loops each)\n",
      "scale=1\n",
      "  rasterio.DatasetReader.sample()         544 ms ± 4.85 ms per loop (mean ± std. dev. of 7 runs, 1 loop each)\n",
      "  RasterValueReader()                     9.74 ms ± 65.1 µs per loop (mean ± std. dev. of 7 runs, 100 loops each)\n",
      "  RasterValueReader(preload_all=True)     8.11 ms ± 45.7 µs per loop (mean ± std. dev. of 7 runs, 100 loops each)\n",
      "scale=10\n",
      "  rasterio.DatasetReader.sample()         547 ms ± 10.3 ms per loop (mean ± std. dev. of 7 runs, 1 loop each)\n",
      "  RasterValueReader()                     68 ms ± 592 µs per loop (mean ± std. dev. of 7 runs, 10 loops each)\n",
      "  RasterValueReader(preload_all=True)     8.46 ms ± 69.2 µs per loop (mean ± std. dev. of 7 runs, 100 loops each)\n",
      "scale=45\n",
      "  rasterio.DatasetReader.sample()         561 ms ± 23.2 ms per loop (mean ± std. dev. of 7 runs, 1 loop each)\n",
      "  RasterValueReader()                     628 ms ± 24 ms per loop (mean ± std. dev. of 7 runs, 1 loop each)\n",
      "  RasterValueReader(preload_all=True)     8.91 ms ± 60.3 µs per loop (mean ± std. dev. of 7 runs, 100 loops each)\n"
     ]
    }
   ],
   "source": [
    "for scale in [0.1, 1, 10, 45]:\n",
    "    print(f\"scale={scale}\")\n",
    "    for fn in [time_rasterio_sample, time_reader, time_reader_preload]:\n",
    "        print(\"  {:40}\".format(fn.__doc__), end=\"\")\n",
    "        fn(scale=scale)"
   ]
  },
  {
   "cell_type": "markdown",
   "id": "74ae7893",
   "metadata": {},
   "source": [
    "## Concurrent reading, interpolation"
   ]
  },
  {
   "cell_type": "code",
   "execution_count": 9,
   "id": "3fabb0ad",
   "metadata": {},
   "outputs": [
    {
     "name": "stdout",
     "output_type": "stream",
     "text": [
      "preload_all=False, scale=1, interpolation='nearest'\n",
      "  sync:   377 ms ± 3.73 ms per loop (mean ± std. dev. of 7 runs, 1 loop each)\n",
      "  async:  70.4 ms ± 1.87 ms per loop (mean ± std. dev. of 7 runs, 1 loop each)\n",
      "preload_all=False, scale=1, interpolation='bilinear'\n",
      "  sync:   1.08 s ± 8.82 ms per loop (mean ± std. dev. of 7 runs, 1 loop each)\n",
      "  async:  208 ms ± 4.79 ms per loop (mean ± std. dev. of 7 runs, 1 loop each)\n",
      "preload_all=False, scale=10, interpolation='nearest'\n",
      "  sync:   2.29 s ± 9.51 ms per loop (mean ± std. dev. of 7 runs, 1 loop each)\n",
      "  async:  398 ms ± 14.1 ms per loop (mean ± std. dev. of 7 runs, 1 loop each)\n",
      "preload_all=False, scale=10, interpolation='bilinear'\n",
      "  sync:   3.68 s ± 23.1 ms per loop (mean ± std. dev. of 7 runs, 1 loop each)\n",
      "  async:  593 ms ± 13.7 ms per loop (mean ± std. dev. of 7 runs, 1 loop each)\n",
      "preload_all=True, scale=1, interpolation='nearest'\n",
      "  sync:   331 ms ± 2.65 ms per loop (mean ± std. dev. of 7 runs, 1 loop each)\n",
      "  async:  82.5 ms ± 7.91 ms per loop (mean ± std. dev. of 7 runs, 1 loop each)\n",
      "preload_all=True, scale=1, interpolation='bilinear'\n",
      "  sync:   1.01 s ± 16.8 ms per loop (mean ± std. dev. of 7 runs, 1 loop each)\n",
      "  async:  194 ms ± 11.9 ms per loop (mean ± std. dev. of 7 runs, 1 loop each)\n",
      "preload_all=True, scale=10, interpolation='nearest'\n",
      "  sync:   362 ms ± 12.2 ms per loop (mean ± std. dev. of 7 runs, 1 loop each)\n",
      "  async:  111 ms ± 47.2 ms per loop (mean ± std. dev. of 7 runs, 1 loop each)\n",
      "preload_all=True, scale=10, interpolation='bilinear'\n",
      "  sync:   997 ms ± 8.22 ms per loop (mean ± std. dev. of 7 runs, 1 loop each)\n",
      "  async:  201 ms ± 17.1 ms per loop (mean ± std. dev. of 7 runs, 1 loop each)\n"
     ]
    }
   ],
   "source": [
    "for kwargs in itertools.product([False, True], [1, 10], [\"nearest\", \"bilinear\"]):\n",
    "    kwargs = dict(zip([\"preload_all\", \"scale\", \"interpolation\"], kwargs))\n",
    "    print(\", \".join(\"{}={!r}\".format(k, v) for k, v in kwargs.items()))\n",
    "    scale = kwargs.pop(\"scale\")\n",
    "\n",
    "    print(\"  sync:   \", end=\"\")\n",
    "    inputs = gen_inputs(scale=scale)\n",
    "    with gps2var.RasterValueReaderPool(DATA_PATH, num_workers=8, **kwargs) as reader:    \n",
    "        %timeit [reader.get(*next(inputs)) for _ in range(32)]\n",
    "\n",
    "    print(\"  async:  \", end=\"\")\n",
    "    inputs = gen_inputs(scale=scale)\n",
    "    with gps2var.RasterValueReaderPool(DATA_PATH, num_workers=8, **kwargs) as reader:\n",
    "        %timeit list(cf.as_completed(reader.async_get(*next(inputs)) for _ in range(32)))"
   ]
  }
 ],
 "metadata": {
  "kernelspec": {
   "display_name": "geo-transformers",
   "language": "python",
   "name": "geo-transformers"
  },
  "language_info": {
   "codemirror_mode": {
    "name": "ipython",
    "version": 3
   },
   "file_extension": ".py",
   "mimetype": "text/x-python",
   "name": "python",
   "nbconvert_exporter": "python",
   "pygments_lexer": "ipython3",
   "version": "3.9.7"
  }
 },
 "nbformat": 4,
 "nbformat_minor": 5
}
