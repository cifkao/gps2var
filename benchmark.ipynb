{
 "cells": [
  {
   "cell_type": "code",
   "execution_count": 1,
   "id": "bca40ed0",
   "metadata": {},
   "outputs": [],
   "source": [
    "import concurrent.futures as cf\n",
    "import itertools\n",
    "\n",
    "import gps2var\n",
    "import numpy as np\n",
    "import pyproj\n",
    "import rasterio"
   ]
  },
  {
   "cell_type": "code",
   "execution_count": 2,
   "id": "efa94f5c",
   "metadata": {},
   "outputs": [],
   "source": [
    "DATA_PATH = \"wildareas-v3-2009-human-footprint.tif\""
   ]
  },
  {
   "cell_type": "code",
   "execution_count": 3,
   "id": "9d57850b",
   "metadata": {},
   "outputs": [],
   "source": [
    "def gen_inputs(scale=1, size=10000, seed=42):\n",
    "    rng = np.random.default_rng(seed)\n",
    "    while True:\n",
    "        yield rng.uniform(-scale, scale, size=(size, 2)).T"
   ]
  },
  {
   "cell_type": "markdown",
   "id": "c0c175ab",
   "metadata": {},
   "source": [
    "## Basic synchronous reading"
   ]
  },
  {
   "cell_type": "code",
   "execution_count": 4,
   "id": "cd2a7730",
   "metadata": {},
   "outputs": [],
   "source": [
    "def time_rasterio_sample(scale):\n",
    "    \"\"\"rasterio.DatasetReader.sample()\"\"\"\n",
    "    inputs = gen_inputs(scale=scale)\n",
    "    with rasterio.open(DATA_PATH) as dataset:\n",
    "        transformer = pyproj.Transformer.from_crs(\"EPSG:4326\", dataset.crs, always_xy=True)\n",
    "        %timeit list(dataset.sample(zip(*transformer.transform(*next(inputs)))))"
   ]
  },
  {
   "cell_type": "code",
   "execution_count": 5,
   "id": "845feb18",
   "metadata": {},
   "outputs": [],
   "source": [
    "def time_reader(scale):\n",
    "    \"\"\"RasterValueReader()\"\"\"\n",
    "    inputs = gen_inputs(scale=scale)\n",
    "    with gps2var.RasterValueReader(DATA_PATH) as reader:\n",
    "        %timeit reader.get(*next(inputs))"
   ]
  },
  {
   "cell_type": "code",
   "execution_count": 6,
   "id": "83913688",
   "metadata": {},
   "outputs": [],
   "source": [
    "def time_reader_preload(scale):\n",
    "    \"\"\"RasterValueReader(preload_all=True)\"\"\"\n",
    "    inputs = gen_inputs(scale=scale)\n",
    "    with gps2var.RasterValueReader(DATA_PATH, preload_all=True) as reader:\n",
    "        %timeit reader.get(*next(inputs))"
   ]
  },
  {
   "cell_type": "code",
   "execution_count": 7,
   "id": "1772a84f",
   "metadata": {},
   "outputs": [
    {
     "name": "stdout",
     "output_type": "stream",
     "text": [
      "scale=0.1\n",
      "  rasterio.DatasetReader.sample()         535 ms ± 2.11 ms per loop (mean ± std. dev. of 7 runs, 1 loop each)\n",
      "  RasterValueReader()                     8.57 ms ± 20.4 µs per loop (mean ± std. dev. of 7 runs, 100 loops each)\n",
      "  RasterValueReader(preload_all=True)     7.87 ms ± 4.95 µs per loop (mean ± std. dev. of 7 runs, 100 loops each)\n",
      "scale=1\n",
      "  rasterio.DatasetReader.sample()         534 ms ± 3.25 ms per loop (mean ± std. dev. of 7 runs, 1 loop each)\n",
      "  RasterValueReader()                     9.85 ms ± 86.3 µs per loop (mean ± std. dev. of 7 runs, 100 loops each)\n",
      "  RasterValueReader(preload_all=True)     8.14 ms ± 65.9 µs per loop (mean ± std. dev. of 7 runs, 100 loops each)\n",
      "scale=10\n",
      "  rasterio.DatasetReader.sample()         544 ms ± 12.6 ms per loop (mean ± std. dev. of 7 runs, 1 loop each)\n",
      "  RasterValueReader()                     68 ms ± 166 µs per loop (mean ± std. dev. of 7 runs, 10 loops each)\n",
      "  RasterValueReader(preload_all=True)     8.43 ms ± 21.1 µs per loop (mean ± std. dev. of 7 runs, 100 loops each)\n",
      "scale=45\n",
      "  rasterio.DatasetReader.sample()         566 ms ± 36.4 ms per loop (mean ± std. dev. of 7 runs, 1 loop each)\n",
      "  RasterValueReader()                     640 ms ± 43.8 ms per loop (mean ± std. dev. of 7 runs, 1 loop each)\n",
      "  RasterValueReader(preload_all=True)     8.86 ms ± 27 µs per loop (mean ± std. dev. of 7 runs, 100 loops each)\n"
     ]
    }
   ],
   "source": [
    "for scale in [0.1, 1, 10, 45]:\n",
    "    print(f\"scale={scale}\")\n",
    "    for fn in [time_rasterio_sample, time_reader, time_reader_preload]:\n",
    "        print(\"  {:40}\".format(fn.__doc__), end=\"\")\n",
    "        fn(scale=scale)"
   ]
  },
  {
   "cell_type": "markdown",
   "id": "74ae7893",
   "metadata": {},
   "source": [
    "## Concurrent reading, interpolation"
   ]
  },
  {
   "cell_type": "code",
   "execution_count": 8,
   "id": "3fabb0ad",
   "metadata": {},
   "outputs": [
    {
     "name": "stdout",
     "output_type": "stream",
     "text": [
      "preload_all=False, scale=1, interpolation='nearest'\n",
      "  sync:   377 ms ± 9.9 ms per loop (mean ± std. dev. of 7 runs, 1 loop each)\n",
      "  async:  66.8 ms ± 3.92 ms per loop (mean ± std. dev. of 7 runs, 1 loop each)\n",
      "preload_all=False, scale=1, interpolation='bilinear'\n",
      "  sync:   1.08 s ± 1.9 ms per loop (mean ± std. dev. of 7 runs, 1 loop each)\n",
      "  async:  208 ms ± 10.7 ms per loop (mean ± std. dev. of 7 runs, 1 loop each)\n",
      "preload_all=False, scale=10, interpolation='nearest'\n",
      "  sync:   2.26 s ± 2.74 ms per loop (mean ± std. dev. of 7 runs, 1 loop each)\n",
      "  async:  391 ms ± 11.7 ms per loop (mean ± std. dev. of 7 runs, 1 loop each)\n",
      "preload_all=False, scale=10, interpolation='bilinear'\n",
      "  sync:   3.61 s ± 5.78 ms per loop (mean ± std. dev. of 7 runs, 1 loop each)\n",
      "  async:  602 ms ± 18 ms per loop (mean ± std. dev. of 7 runs, 1 loop each)\n",
      "preload_all=True, scale=1, interpolation='nearest'\n",
      "  sync:   334 ms ± 7.07 ms per loop (mean ± std. dev. of 7 runs, 1 loop each)\n",
      "  async:  115 ms ± 2.34 ms per loop (mean ± std. dev. of 7 runs, 1 loop each)\n",
      "preload_all=True, scale=1, interpolation='bilinear'\n",
      "  sync:   968 ms ± 2.33 ms per loop (mean ± std. dev. of 7 runs, 1 loop each)\n",
      "  async:  190 ms ± 9.81 ms per loop (mean ± std. dev. of 7 runs, 1 loop each)\n",
      "preload_all=True, scale=10, interpolation='nearest'\n",
      "  sync:   349 ms ± 1.36 ms per loop (mean ± std. dev. of 7 runs, 1 loop each)\n",
      "  async:  80 ms ± 11.7 ms per loop (mean ± std. dev. of 7 runs, 1 loop each)\n",
      "preload_all=True, scale=10, interpolation='bilinear'\n",
      "  sync:   1.01 s ± 8.12 ms per loop (mean ± std. dev. of 7 runs, 1 loop each)\n",
      "  async:  207 ms ± 26.5 ms per loop (mean ± std. dev. of 7 runs, 1 loop each)\n"
     ]
    }
   ],
   "source": [
    "for kwargs in itertools.product([False, True], [1, 10], [\"nearest\", \"bilinear\"]):\n",
    "    kwargs = dict(zip([\"preload_all\", \"scale\", \"interpolation\"], kwargs))\n",
    "    print(\", \".join(\"{}={!r}\".format(k, v) for k, v in kwargs.items()))\n",
    "    scale = kwargs.pop(\"scale\")\n",
    "\n",
    "    print(\"  sync:   \", end=\"\")\n",
    "    inputs = gen_inputs(scale=scale)\n",
    "    with gps2var.RasterValueReaderPool(DATA_PATH, num_workers=8, **kwargs) as reader:    \n",
    "        %timeit [reader.get(*next(inputs)) for _ in range(32)]\n",
    "\n",
    "    print(\"  async:  \", end=\"\")\n",
    "    inputs = gen_inputs(scale=scale)\n",
    "    with gps2var.RasterValueReaderPool(DATA_PATH, num_workers=8, **kwargs) as reader:\n",
    "        %timeit list(cf.as_completed(reader.async_get(*next(inputs)) for _ in range(32)))"
   ]
  }
 ],
 "metadata": {
  "kernelspec": {
   "display_name": "geo-transformers",
   "language": "python",
   "name": "geo-transformers"
  },
  "language_info": {
   "codemirror_mode": {
    "name": "ipython",
    "version": 3
   },
   "file_extension": ".py",
   "mimetype": "text/x-python",
   "name": "python",
   "nbconvert_exporter": "python",
   "pygments_lexer": "ipython3",
   "version": "3.9.7"
  }
 },
 "nbformat": 4,
 "nbformat_minor": 5
}
