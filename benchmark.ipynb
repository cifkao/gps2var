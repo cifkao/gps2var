{
 "cells": [
  {
   "cell_type": "code",
   "execution_count": 1,
   "id": "bca40ed0",
   "metadata": {},
   "outputs": [],
   "source": [
    "import concurrent.futures as cf\n",
    "import itertools\n",
    "\n",
    "import gps2var\n",
    "import numpy as np\n",
    "import pyproj\n",
    "import rasterio"
   ]
  },
  {
   "cell_type": "code",
   "execution_count": 2,
   "id": "efa94f5c",
   "metadata": {},
   "outputs": [],
   "source": [
    "DATA_PATH = \"wildareas-v3-2009-human-footprint.tif\""
   ]
  },
  {
   "cell_type": "code",
   "execution_count": 3,
   "id": "9d57850b",
   "metadata": {},
   "outputs": [],
   "source": [
    "np.random.seed(42)\n",
    "lat, lon = np.random.uniform(-1, 1, size=(10000, 2)).T"
   ]
  },
  {
   "cell_type": "markdown",
   "id": "c0c175ab",
   "metadata": {},
   "source": [
    "## Basic synchronous reading"
   ]
  },
  {
   "cell_type": "code",
   "execution_count": 4,
   "id": "cd2a7730",
   "metadata": {},
   "outputs": [],
   "source": [
    "def time_rasterio_sample(lon, lat):\n",
    "    \"\"\"rasterio.DatasetReader.sample()\"\"\"\n",
    "    with rasterio.open(DATA_PATH) as dataset:\n",
    "        transformer = pyproj.Transformer.from_crs(\"EPSG:4326\", dataset.crs, always_xy=True)\n",
    "        %timeit list(dataset.sample(zip(*transformer.transform(lon, lat))))"
   ]
  },
  {
   "cell_type": "code",
   "execution_count": 5,
   "id": "845feb18",
   "metadata": {},
   "outputs": [],
   "source": [
    "def time_reader(lon, lat):\n",
    "    \"\"\"RasterValueReader()\"\"\"\n",
    "    with gps2var.RasterValueReader(DATA_PATH) as reader:\n",
    "        %timeit reader.get(lon, lat)"
   ]
  },
  {
   "cell_type": "code",
   "execution_count": 6,
   "id": "83913688",
   "metadata": {},
   "outputs": [],
   "source": [
    "def time_reader_preload(lon, lat):\n",
    "    \"\"\"RasterValueReader(preload_all=True)\"\"\"\n",
    "    with gps2var.RasterValueReader(DATA_PATH, preload_all=True) as reader:\n",
    "        %timeit reader.get(lon, lat)"
   ]
  },
  {
   "cell_type": "code",
   "execution_count": 7,
   "id": "874f4f6b",
   "metadata": {
    "scrolled": true
   },
   "outputs": [
    {
     "name": "stdout",
     "output_type": "stream",
     "text": [
      "scale=0.1\n",
      "  rasterio.DatasetReader.sample()         540 ms ± 3.55 ms per loop (mean ± std. dev. of 7 runs, 1 loop each)\n",
      "  RasterValueReader()                     8.42 ms ± 25.7 µs per loop (mean ± std. dev. of 7 runs, 100 loops each)\n",
      "  RasterValueReader(preload_all=True)     8.04 ms ± 8.54 µs per loop (mean ± std. dev. of 7 runs, 100 loops each)\n",
      "scale=1\n",
      "  rasterio.DatasetReader.sample()         544 ms ± 8.24 ms per loop (mean ± std. dev. of 7 runs, 1 loop each)\n",
      "  RasterValueReader()                     9.56 ms ± 20.1 µs per loop (mean ± std. dev. of 7 runs, 100 loops each)\n",
      "  RasterValueReader(preload_all=True)     8.61 ms ± 42.4 µs per loop (mean ± std. dev. of 7 runs, 100 loops each)\n",
      "scale=10\n",
      "  rasterio.DatasetReader.sample()         543 ms ± 4.89 ms per loop (mean ± std. dev. of 7 runs, 1 loop each)\n",
      "  RasterValueReader()                     68.4 ms ± 190 µs per loop (mean ± std. dev. of 7 runs, 10 loops each)\n",
      "  RasterValueReader(preload_all=True)     20.1 ms ± 164 µs per loop (mean ± std. dev. of 7 runs, 10 loops each)\n",
      "scale=45\n",
      "  rasterio.DatasetReader.sample()         548 ms ± 9.14 ms per loop (mean ± std. dev. of 7 runs, 1 loop each)\n",
      "  RasterValueReader()                     600 ms ± 1.53 ms per loop (mean ± std. dev. of 7 runs, 1 loop each)\n",
      "  RasterValueReader(preload_all=True)     114 ms ± 181 µs per loop (mean ± std. dev. of 7 runs, 10 loops each)\n"
     ]
    }
   ],
   "source": [
    "for scale in [0.1, 1, 10, 45]:\n",
    "    print(f\"scale={scale}\")\n",
    "    for fn in [time_rasterio_sample, time_reader, time_reader_preload]:\n",
    "        print(\"  {:40}\".format(fn.__doc__), end=\"\")\n",
    "        fn(lon * scale, lat * scale)"
   ]
  },
  {
   "cell_type": "markdown",
   "id": "74ae7893",
   "metadata": {},
   "source": [
    "## Concurrent reading, interpolation"
   ]
  },
  {
   "cell_type": "code",
   "execution_count": 9,
   "id": "3fabb0ad",
   "metadata": {},
   "outputs": [
    {
     "name": "stdout",
     "output_type": "stream",
     "text": [
      "scale=0.1, interpolation='nearest'\n",
      "  sync:  322 ms ± 693 µs per loop (mean ± std. dev. of 7 runs, 1 loop each)\n",
      "  async: 55.7 ms ± 3.01 ms per loop (mean ± std. dev. of 7 runs, 1 loop each)\n",
      "scale=0.1, interpolation='bilinear'\n",
      "  sync:  977 ms ± 28 ms per loop (mean ± std. dev. of 7 runs, 1 loop each)\n",
      "  async: 182 ms ± 10.5 ms per loop (mean ± std. dev. of 7 runs, 1 loop each)\n",
      "scale=10, interpolation='nearest'\n",
      "  sync:  2.45 s ± 4.37 ms per loop (mean ± std. dev. of 7 runs, 1 loop each)\n",
      "  async: 381 ms ± 19.9 ms per loop (mean ± std. dev. of 7 runs, 1 loop each)\n",
      "scale=10, interpolation='bilinear'\n",
      "  sync:  3.84 s ± 11.4 ms per loop (mean ± std. dev. of 7 runs, 1 loop each)\n",
      "  async: 575 ms ± 20.2 ms per loop (mean ± std. dev. of 7 runs, 1 loop each)\n"
     ]
    }
   ],
   "source": [
    "for kwargs in itertools.product([0.1, 10], [\"nearest\", \"bilinear\"]):\n",
    "    kwargs = dict(zip([\"scale\", \"interpolation\"], kwargs))\n",
    "    print(\", \".join(\"{}={!r}\".format(k, v) for k, v in kwargs.items()))\n",
    "    scale = kwargs.pop(\"scale\")\n",
    "    lon_scaled, lat_scaled = lon * scale, lat * scale\n",
    "\n",
    "    print(\"  sync:  \", end=\"\")\n",
    "    with gps2var.RasterValueReaderPool(DATA_PATH, num_workers=8, **kwargs) as reader:    \n",
    "        %timeit [reader.get(lon_scaled, lat_scaled) for _ in range(32)]\n",
    "    print(\"  async: \", end=\"\")\n",
    "    with gps2var.RasterValueReaderPool(DATA_PATH, num_workers=8, **kwargs) as reader:\n",
    "        %timeit list(cf.as_completed(reader.async_get(lon_scaled, lat_scaled) for _ in range(32)))"
   ]
  }
 ],
 "metadata": {
  "kernelspec": {
   "display_name": "geo-transformers",
   "language": "python",
   "name": "geo-transformers"
  },
  "language_info": {
   "codemirror_mode": {
    "name": "ipython",
    "version": 3
   },
   "file_extension": ".py",
   "mimetype": "text/x-python",
   "name": "python",
   "nbconvert_exporter": "python",
   "pygments_lexer": "ipython3",
   "version": "3.9.7"
  }
 },
 "nbformat": 4,
 "nbformat_minor": 5
}
